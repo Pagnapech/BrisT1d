{
 "cells": [
  {
   "cell_type": "markdown",
   "id": "fc76b352-84e3-41da-b0d9-9d7dcac236c0",
   "metadata": {},
   "source": [
    "## Data Pre-processing\n",
    "### Import the training data from the Brist1d  "
   ]
  },
  {
   "cell_type": "code",
   "execution_count": 13,
   "id": "1044ce4a-0852-4c89-a9e5-d94adbcc54e1",
   "metadata": {},
   "outputs": [],
   "source": [
    "import pandas as pd \n",
    "import os "
   ]
  },
  {
   "cell_type": "code",
   "execution_count": 36,
   "id": "b24b72d3-cd08-4798-82ab-57d242d00cfd",
   "metadata": {},
   "outputs": [
    {
     "name": "stderr",
     "output_type": "stream",
     "text": [
      "C:\\Users\\chamr\\AppData\\Local\\Temp\\ipykernel_9364\\1515408292.py:1: DtypeWarning: Columns (435,436,437,438,439,440,441,442,443,444,445,446,447,448,449,450,451,452,453,454,455,456,457,458,459,460,461,462,463,464,465,466,467,468,469,470,471,472,473,474,475,476,477,478,479,480,481,482,483,484,485,486,487,488,489,490,491,492,493,494,495,496,497,498,499,500,501,502,503,504,505,506) have mixed types. Specify dtype option on import or set low_memory=False.\n",
      "  train_df = pd.read_csv('brist1d/train.csv')\n"
     ]
    },
    {
     "name": "stdout",
     "output_type": "stream",
     "text": [
      "      id p_num      time  bg-5:55  bg-5:50  bg-5:45  bg-5:40  bg-5:35  \\\n",
      "0  p01_0   p01  06:10:00      NaN      NaN      9.6      NaN      NaN   \n",
      "1  p01_1   p01  06:25:00      NaN      NaN      9.7      NaN      NaN   \n",
      "2  p01_2   p01  06:40:00      NaN      NaN      9.2      NaN      NaN   \n",
      "3  p01_3   p01  06:55:00      NaN      NaN      8.7      NaN      NaN   \n",
      "4  p01_4   p01  07:10:00      NaN      NaN      8.4      NaN      NaN   \n",
      "\n",
      "   bg-5:30  bg-5:25  ...  activity-0:40  activity-0:35  activity-0:30  \\\n",
      "0      9.7      NaN  ...            NaN            NaN            NaN   \n",
      "1      9.2      NaN  ...            NaN            NaN            NaN   \n",
      "2      8.7      NaN  ...            NaN            NaN            NaN   \n",
      "3      8.4      NaN  ...            NaN            NaN            NaN   \n",
      "4      8.1      NaN  ...            NaN            NaN            NaN   \n",
      "\n",
      "   activity-0:25  activity-0:20  activity-0:15  activity-0:10  activity-0:05  \\\n",
      "0            NaN            NaN            NaN            NaN            NaN   \n",
      "1            NaN            NaN            NaN            NaN            NaN   \n",
      "2            NaN            NaN            NaN            NaN            NaN   \n",
      "3            NaN            NaN            NaN            NaN            NaN   \n",
      "4            NaN            NaN            NaN            NaN            NaN   \n",
      "\n",
      "   activity-0:00  bg+1:00  \n",
      "0            NaN     13.4  \n",
      "1            NaN     12.8  \n",
      "2            NaN     15.5  \n",
      "3            NaN     14.8  \n",
      "4            NaN     12.7  \n",
      "\n",
      "[5 rows x 508 columns]\n",
      "         id p_num      time  bg-5:55  bg-5:50  bg-5:45  bg-5:40  bg-5:35  \\\n",
      "0  p01_8459   p01  06:45:00      NaN      9.2      NaN      NaN     10.2   \n",
      "1  p01_8460   p01  11:25:00      NaN      NaN      9.9      NaN      NaN   \n",
      "2  p01_8461   p01  14:45:00      NaN      5.5      NaN      NaN      5.5   \n",
      "3  p01_8462   p01  04:30:00      NaN      3.4      NaN      NaN      3.9   \n",
      "4  p01_8463   p01  04:20:00      NaN      NaN      8.3      NaN      NaN   \n",
      "\n",
      "   bg-5:30  bg-5:25  ...  activity-0:45  activity-0:40  activity-0:35  \\\n",
      "0      NaN      NaN  ...            NaN            NaN            NaN   \n",
      "1      9.4      NaN  ...            NaN            NaN            NaN   \n",
      "2      NaN      NaN  ...            NaN            NaN            NaN   \n",
      "3      NaN      NaN  ...            NaN            NaN            NaN   \n",
      "4     10.0      NaN  ...            NaN            NaN            NaN   \n",
      "\n",
      "   activity-0:30  activity-0:25  activity-0:20  activity-0:15  activity-0:10  \\\n",
      "0            NaN            NaN            NaN            NaN            NaN   \n",
      "1            NaN            NaN            NaN            NaN           Walk   \n",
      "2            NaN            NaN            NaN            NaN            NaN   \n",
      "3            NaN            NaN            NaN            NaN            NaN   \n",
      "4            NaN            NaN            NaN            NaN            NaN   \n",
      "\n",
      "   activity-0:05  activity-0:00  \n",
      "0            NaN            NaN  \n",
      "1           Walk           Walk  \n",
      "2            NaN            NaN  \n",
      "3            NaN            NaN  \n",
      "4            NaN            NaN  \n",
      "\n",
      "[5 rows x 507 columns]\n"
     ]
    }
   ],
   "source": [
    "train_df = pd.read_csv('brist1d/train.csv')\n",
    "test_df = pd.read_csv('brist1d/test.csv') \n",
    "\n",
    "print(train_df.head())\n",
    "\n",
    "print(test_df.head())"
   ]
  },
  {
   "cell_type": "markdown",
   "id": "37ba9c84-6a75-4324-a5bf-d4a3bdfecfb5",
   "metadata": {},
   "source": [
    "## Training Dataset \n",
    "### Group each participant based on their p_num and convert them into csv file as mini-batch"
   ]
  },
  {
   "cell_type": "code",
   "execution_count": 46,
   "id": "18e6b510-d953-4ba9-9608-e50a2277df83",
   "metadata": {
    "scrolled": true
   },
   "outputs": [
    {
     "name": "stdout",
     "output_type": "stream",
     "text": [
      "Done batching the training dataset\n"
     ]
    }
   ],
   "source": [
    "outputDir = 'train_batch'\n",
    "\n",
    "# Separate and save each group as a CSV file \n",
    "participant = {group: subset for group, subset in train_df.groupby('p_num')} \n",
    "\n",
    "outputFiles = [] \n",
    "for group, subset in participant.items(): \n",
    "    # create csv file\n",
    "    outputFile = os.path.join(outputDir, f\"{group}.csv\") \n",
    "    # input the data to csv\n",
    "    subset.to_csv(outputFile, index=False) \n",
    "    outputFiles.append(outputFile) \n",
    "\n",
    "print(\"Done batching the training dataset\") "
   ]
  },
  {
   "cell_type": "markdown",
   "id": "2a3cacd2-0029-440f-8e1f-bc7dfbe001d3",
   "metadata": {},
   "source": [
    "## Testing Dataset\n",
    "### Group each participant based on their p_num and convert them into csv file as mini-batch "
   ]
  },
  {
   "cell_type": "code",
   "execution_count": null,
   "id": "1c07e50c-f754-412b-bb95-ba1ed179a249",
   "metadata": {},
   "outputs": [
    {
     "name": "stdout",
     "output_type": "stream",
     "text": [
      "Done batching the testing dataset\n"
     ]
    }
   ],
   "source": [
    "outputDir = 'test_batch'\n",
    "\n",
    "# Separate each participant by p_num using a dictionary \n",
    "participant = {group: subset for group, subset in test_df.groupby('p_num')} \n",
    "\n",
    "outputFiles = [] \n",
    "# save each group as a CSV file\n",
    "for group, subset in participant.items(): \n",
    "    # create csv file\n",
    "    outputFile = os.path.join(outputDir, f\"{group}.csv\") \n",
    "    # input the data to csv\n",
    "    subset.to_csv(outputFile, index=False) \n",
    "    outputFiles.append(outputFile) \n",
    "\n",
    "print(\"Done batching the testing dataset\") \n",
    "print(\"\")"
   ]
  },
  {
   "cell_type": "code",
   "execution_count": null,
   "id": "7c88b77b-1389-4e59-89e5-b92b0663ce9f",
   "metadata": {},
   "outputs": [],
   "source": []
  }
 ],
 "metadata": {
  "kernelspec": {
   "display_name": "Python 3 (ipykernel)",
   "language": "python",
   "name": "python3"
  },
  "language_info": {
   "codemirror_mode": {
    "name": "ipython",
    "version": 3
   },
   "file_extension": ".py",
   "mimetype": "text/x-python",
   "name": "python",
   "nbconvert_exporter": "python",
   "pygments_lexer": "ipython3",
   "version": "3.11.5"
  }
 },
 "nbformat": 4,
 "nbformat_minor": 5
}
