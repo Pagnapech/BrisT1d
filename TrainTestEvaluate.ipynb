{
 "cells": [
  {
   "cell_type": "markdown",
   "id": "48016760-d291-46d0-b725-9499450cc83b",
   "metadata": {},
   "source": [
    "## Train, Test and Evaluate"
   ]
  },
  {
   "cell_type": "markdown",
   "id": "d980eb63-93f0-4fc2-b861-c76a756327cc",
   "metadata": {},
   "source": [
    "### Train the Data"
   ]
  },
  {
   "cell_type": "code",
   "execution_count": 3,
   "id": "6b8e8ae8-0e51-47ef-abc8-2fdb58ea4154",
   "metadata": {},
   "outputs": [],
   "source": [
    "import os \n",
    "import pandas as pd\n",
    "from sklearn.model_selection import train_test_split\n",
    "from sklearn.metrics import confusion_matrix, ConfusionMatrixDisplay \n",
    "from sklearn.metrics import mean_squared_error, mean_absolute_error\n",
    "from sklearn.preprocessing import MinMaxScaler\n",
    "import numpy as np\n",
    "import torch \n",
    "import torch.nn as nn \n",
    "import torch.optim as optim \n",
    "from torch.utils.data import DataLoader, Dataset\n",
    "import joblib"
   ]
  },
  {
   "cell_type": "code",
   "execution_count": 4,
   "id": "8090b32f-1043-486a-95b2-a1e918ea713e",
   "metadata": {},
   "outputs": [
    {
     "data": {
      "text/html": [
       "<div>\n",
       "<style scoped>\n",
       "    .dataframe tbody tr th:only-of-type {\n",
       "        vertical-align: middle;\n",
       "    }\n",
       "\n",
       "    .dataframe tbody tr th {\n",
       "        vertical-align: top;\n",
       "    }\n",
       "\n",
       "    .dataframe thead th {\n",
       "        text-align: right;\n",
       "    }\n",
       "</style>\n",
       "<table border=\"1\" class=\"dataframe\">\n",
       "  <thead>\n",
       "    <tr style=\"text-align: right;\">\n",
       "      <th></th>\n",
       "      <th>p_num</th>\n",
       "      <th>hour</th>\n",
       "      <th>minute</th>\n",
       "      <th>hour_sin</th>\n",
       "      <th>hour_cos</th>\n",
       "      <th>minute_sin</th>\n",
       "      <th>minute_cos</th>\n",
       "      <th>bg-5:55</th>\n",
       "      <th>bg-5:50</th>\n",
       "      <th>bg-5:45</th>\n",
       "      <th>...</th>\n",
       "      <th>activity-0:40</th>\n",
       "      <th>activity-0:35</th>\n",
       "      <th>activity-0:30</th>\n",
       "      <th>activity-0:25</th>\n",
       "      <th>activity-0:20</th>\n",
       "      <th>activity-0:15</th>\n",
       "      <th>activity-0:10</th>\n",
       "      <th>activity-0:05</th>\n",
       "      <th>activity-0:00</th>\n",
       "      <th>bg+1:00</th>\n",
       "    </tr>\n",
       "  </thead>\n",
       "  <tbody>\n",
       "    <tr>\n",
       "      <th>0</th>\n",
       "      <td>0</td>\n",
       "      <td>6</td>\n",
       "      <td>10</td>\n",
       "      <td>1.000000</td>\n",
       "      <td>6.123234e-17</td>\n",
       "      <td>0.866025</td>\n",
       "      <td>0.500000</td>\n",
       "      <td>0.252604</td>\n",
       "      <td>0.273438</td>\n",
       "      <td>0.289062</td>\n",
       "      <td>...</td>\n",
       "      <td>2</td>\n",
       "      <td>2</td>\n",
       "      <td>2</td>\n",
       "      <td>2</td>\n",
       "      <td>2</td>\n",
       "      <td>2</td>\n",
       "      <td>2</td>\n",
       "      <td>2</td>\n",
       "      <td>2</td>\n",
       "      <td>0.437500</td>\n",
       "    </tr>\n",
       "    <tr>\n",
       "      <th>1</th>\n",
       "      <td>0</td>\n",
       "      <td>6</td>\n",
       "      <td>25</td>\n",
       "      <td>1.000000</td>\n",
       "      <td>6.123234e-17</td>\n",
       "      <td>0.500000</td>\n",
       "      <td>-0.866025</td>\n",
       "      <td>0.291667</td>\n",
       "      <td>0.256510</td>\n",
       "      <td>0.292969</td>\n",
       "      <td>...</td>\n",
       "      <td>2</td>\n",
       "      <td>2</td>\n",
       "      <td>2</td>\n",
       "      <td>2</td>\n",
       "      <td>2</td>\n",
       "      <td>2</td>\n",
       "      <td>2</td>\n",
       "      <td>2</td>\n",
       "      <td>2</td>\n",
       "      <td>0.414062</td>\n",
       "    </tr>\n",
       "    <tr>\n",
       "      <th>2</th>\n",
       "      <td>0</td>\n",
       "      <td>6</td>\n",
       "      <td>40</td>\n",
       "      <td>1.000000</td>\n",
       "      <td>6.123234e-17</td>\n",
       "      <td>-0.866025</td>\n",
       "      <td>-0.500000</td>\n",
       "      <td>0.337240</td>\n",
       "      <td>0.242188</td>\n",
       "      <td>0.273438</td>\n",
       "      <td>...</td>\n",
       "      <td>2</td>\n",
       "      <td>2</td>\n",
       "      <td>2</td>\n",
       "      <td>2</td>\n",
       "      <td>2</td>\n",
       "      <td>2</td>\n",
       "      <td>2</td>\n",
       "      <td>2</td>\n",
       "      <td>2</td>\n",
       "      <td>0.519531</td>\n",
       "    </tr>\n",
       "    <tr>\n",
       "      <th>3</th>\n",
       "      <td>0</td>\n",
       "      <td>6</td>\n",
       "      <td>55</td>\n",
       "      <td>1.000000</td>\n",
       "      <td>6.123234e-17</td>\n",
       "      <td>-0.500000</td>\n",
       "      <td>0.866025</td>\n",
       "      <td>0.378906</td>\n",
       "      <td>0.236979</td>\n",
       "      <td>0.253906</td>\n",
       "      <td>...</td>\n",
       "      <td>2</td>\n",
       "      <td>2</td>\n",
       "      <td>2</td>\n",
       "      <td>2</td>\n",
       "      <td>2</td>\n",
       "      <td>2</td>\n",
       "      <td>2</td>\n",
       "      <td>2</td>\n",
       "      <td>2</td>\n",
       "      <td>0.492188</td>\n",
       "    </tr>\n",
       "    <tr>\n",
       "      <th>4</th>\n",
       "      <td>0</td>\n",
       "      <td>7</td>\n",
       "      <td>10</td>\n",
       "      <td>0.965926</td>\n",
       "      <td>-2.588190e-01</td>\n",
       "      <td>0.866025</td>\n",
       "      <td>0.500000</td>\n",
       "      <td>0.415365</td>\n",
       "      <td>0.252604</td>\n",
       "      <td>0.242188</td>\n",
       "      <td>...</td>\n",
       "      <td>2</td>\n",
       "      <td>2</td>\n",
       "      <td>2</td>\n",
       "      <td>2</td>\n",
       "      <td>2</td>\n",
       "      <td>2</td>\n",
       "      <td>2</td>\n",
       "      <td>2</td>\n",
       "      <td>2</td>\n",
       "      <td>0.410156</td>\n",
       "    </tr>\n",
       "  </tbody>\n",
       "</table>\n",
       "<p>5 rows × 512 columns</p>\n",
       "</div>"
      ],
      "text/plain": [
       "   p_num  hour  minute  hour_sin      hour_cos  minute_sin  minute_cos  \\\n",
       "0      0     6      10  1.000000  6.123234e-17    0.866025    0.500000   \n",
       "1      0     6      25  1.000000  6.123234e-17    0.500000   -0.866025   \n",
       "2      0     6      40  1.000000  6.123234e-17   -0.866025   -0.500000   \n",
       "3      0     6      55  1.000000  6.123234e-17   -0.500000    0.866025   \n",
       "4      0     7      10  0.965926 -2.588190e-01    0.866025    0.500000   \n",
       "\n",
       "    bg-5:55   bg-5:50   bg-5:45  ...  activity-0:40  activity-0:35  \\\n",
       "0  0.252604  0.273438  0.289062  ...              2              2   \n",
       "1  0.291667  0.256510  0.292969  ...              2              2   \n",
       "2  0.337240  0.242188  0.273438  ...              2              2   \n",
       "3  0.378906  0.236979  0.253906  ...              2              2   \n",
       "4  0.415365  0.252604  0.242188  ...              2              2   \n",
       "\n",
       "   activity-0:30  activity-0:25  activity-0:20  activity-0:15  activity-0:10  \\\n",
       "0              2              2              2              2              2   \n",
       "1              2              2              2              2              2   \n",
       "2              2              2              2              2              2   \n",
       "3              2              2              2              2              2   \n",
       "4              2              2              2              2              2   \n",
       "\n",
       "   activity-0:05  activity-0:00   bg+1:00  \n",
       "0              2              2  0.437500  \n",
       "1              2              2  0.414062  \n",
       "2              2              2  0.519531  \n",
       "3              2              2  0.492188  \n",
       "4              2              2  0.410156  \n",
       "\n",
       "[5 rows x 512 columns]"
      ]
     },
     "execution_count": 4,
     "metadata": {},
     "output_type": "execute_result"
    }
   ],
   "source": [
    "# Path to directory \n",
    "file_path = 'pre_process_dataset.csv' \n",
    "\n",
    "dataset = pd.read_csv(file_path) \n",
    "dataset.head()"
   ]
  },
  {
   "cell_type": "markdown",
   "id": "0855da10-047c-4c10-bbd6-fbe76bd7c5da",
   "metadata": {},
   "source": [
    "### Separate the dataset as Input and Output Features"
   ]
  },
  {
   "cell_type": "code",
   "execution_count": 12,
   "id": "95b421cb-cf08-49fd-92e2-133a47ae2f44",
   "metadata": {},
   "outputs": [],
   "source": [
    "# Define the target column \n",
    "target_col = 'bg+1:00' \n",
    "\n",
    "# Separate input features (all columns except the target) \n",
    "X = dataset.drop(columns=[target_col]).values # input features as NumPy array \n",
    "\n",
    "# Separate output feature (target column) \n",
    "y = dataset[target_col].values # Target as NumPy array \n",
    "\n",
    "# Split the data into 80% training and 20% testing \n",
    "X_train, X_test, y_train, y_test = train_test_split(X, y, test_size=0.2, random_state=42)"
   ]
  },
  {
   "cell_type": "code",
   "execution_count": 8,
   "id": "fa1a0cf0-cd76-4cdd-abed-9b361bc405b8",
   "metadata": {},
   "outputs": [],
   "source": [
    "# Custom dataset\n",
    "class TransformerDataset(Dataset): \n",
    "    def __init__(self, inputs, targets): \n",
    "        self.inputs = torch.tensor(inputs, dtype=torch.float32) \n",
    "        self.targets = torch.tensor(targets, dtype=torch.float32) \n",
    "    \n",
    "    def __len__(self): \n",
    "        return len(self.inputs) \n",
    "\n",
    "    def __getitem__(self, idx): \n",
    "        return self.inputs[idx], self.targets[idx] "
   ]
  },
  {
   "cell_type": "code",
   "execution_count": 10,
   "id": "182333c3-c65a-46ab-8748-51badc5142ca",
   "metadata": {},
   "outputs": [],
   "source": [
    "# Create PyTorch datasets \n",
    "train_dataset = TransformerDataset(X_train, y_train) \n",
    "test_dataset = TransformerDataset(X_test, y_test) "
   ]
  },
  {
   "cell_type": "code",
   "execution_count": 12,
   "id": "1b83b1e2-311a-43db-aaad-979a97d80797",
   "metadata": {},
   "outputs": [],
   "source": [
    "# Create DataLoaders\n",
    "train_loader = DataLoader(train_dataset, batch_size=32, shuffle=True) \n",
    "test_loader = DataLoader(test_dataset, batch_size=32, shuffle=False) "
   ]
  },
  {
   "cell_type": "code",
   "execution_count": 14,
   "id": "98cb66b0-9036-4d5c-bb90-0eef8bc6fdd8",
   "metadata": {},
   "outputs": [],
   "source": [
    "class Transformer(nn.Module):\n",
    "    def __init__(self, input_dim, embed_dim, num_heads, num_layers, dropout=0.1):\n",
    "        super(Transformer, self).__init__() \n",
    "\n",
    "        # Embedding Layer \n",
    "        self.embedding = nn.Linear(input_dim, embed_dim) \n",
    "\n",
    "        # Transformer Encoder \n",
    "        encoder_layer = nn.TransformerEncoderLayer(\n",
    "            d_model=embed_dim, \n",
    "            nhead=num_heads, \n",
    "            dropout=dropout, \n",
    "            dim_feedforward=embed_dim*4 \n",
    "        )\n",
    "\n",
    "        # Transformer Encoder \n",
    "        self.transformer_encoder = nn.TransformerEncoder(encoder_layer, num_layers=num_layers)\n",
    "\n",
    "        # Fully Connected Output Layer \n",
    "        self.fc = nn.Linear(embed_dim, 1) # Output is 1D for Regression \n",
    "\n",
    "    def forward(self, x): \n",
    "        # Ensure x has 3 dimensions (batch_size, seq_len, input_dim) \n",
    "        if x.dim() == 2: \n",
    "            x = x.unsqueeze(1) \n",
    "            \n",
    "        # Input shape: (batch_size, seq_len, input_dim) \n",
    "        x = self.embedding(x) \n",
    "        x = x.permute(1,0,2) \n",
    "        x = self.transformer_encoder(x) \n",
    "        x = x.mean(dim=0) \n",
    "        x = self.fc(x) \n",
    "        return x "
   ]
  },
  {
   "cell_type": "code",
   "execution_count": 16,
   "id": "0522fd6e-ab99-4860-ad97-6d2de4218cf6",
   "metadata": {},
   "outputs": [
    {
     "name": "stderr",
     "output_type": "stream",
     "text": [
      "C:\\Users\\chamr\\anaconda3\\Lib\\site-packages\\torch\\nn\\modules\\transformer.py:306: UserWarning: enable_nested_tensor is True, but self.use_nested_tensor is False because encoder_layer.self_attn.batch_first was not True(use batch_first for better inference performance)\n",
      "  warnings.warn(f\"enable_nested_tensor is True, but self.use_nested_tensor is False because {why_not_sparsity_fast_path}\")\n"
     ]
    },
    {
     "data": {
      "text/plain": [
       "Transformer(\n",
       "  (embedding): Linear(in_features=511, out_features=192, bias=True)\n",
       "  (transformer_encoder): TransformerEncoder(\n",
       "    (layers): ModuleList(\n",
       "      (0-2): 3 x TransformerEncoderLayer(\n",
       "        (self_attn): MultiheadAttention(\n",
       "          (out_proj): NonDynamicallyQuantizableLinear(in_features=192, out_features=192, bias=True)\n",
       "        )\n",
       "        (linear1): Linear(in_features=192, out_features=768, bias=True)\n",
       "        (dropout): Dropout(p=0.1, inplace=False)\n",
       "        (linear2): Linear(in_features=768, out_features=192, bias=True)\n",
       "        (norm1): LayerNorm((192,), eps=1e-05, elementwise_affine=True)\n",
       "        (norm2): LayerNorm((192,), eps=1e-05, elementwise_affine=True)\n",
       "        (dropout1): Dropout(p=0.1, inplace=False)\n",
       "        (dropout2): Dropout(p=0.1, inplace=False)\n",
       "      )\n",
       "    )\n",
       "  )\n",
       "  (fc): Linear(in_features=192, out_features=1, bias=True)\n",
       ")"
      ]
     },
     "execution_count": 16,
     "metadata": {},
     "output_type": "execute_result"
    }
   ],
   "source": [
    "# Model Configuration \n",
    "input_dim = X_train.shape[1] # Number of input features \n",
    "embed_dim = 192 # Embedding dimension (Must be divisble by num_heads) \n",
    "num_heads = 12 # Number of attention heads \n",
    "num_layers = 3 # Number Transformer Layers \n",
    "dropout = 0.1 \n",
    "\n",
    "# Instantiate the model \n",
    "model = Transformer(input_dim, embed_dim, num_heads, num_layers, dropout) \n",
    "\n",
    "# Define Loss Function and Optimizer \n",
    "criterion = nn.MSELoss() # Mean Squared Error \n",
    "optimizer = optim.Adam(model.parameters(), lr=0.001) \n",
    "\n",
    "# Move model to GPU if available \n",
    "device = torch.device(\"cuda\" if torch.cuda.is_available() else \"cpu\") \n",
    "model.to(device) "
   ]
  },
  {
   "cell_type": "code",
   "execution_count": 18,
   "id": "8f5bb9f1-dc35-46e6-b90f-97a7be622fd7",
   "metadata": {},
   "outputs": [],
   "source": [
    "def train_model(model, train_loader, criterion, optimizer, num_epochs=20): \n",
    "    model.train() # Set model to training mode \n",
    "    for epoch in range(num_epochs): \n",
    "        total_loss = 0.0 \n",
    "        for inputs, targets in train_loader: \n",
    "            # Move data to device\n",
    "            inputs, targets = inputs.to(device), targets.to(device)  \n",
    "\n",
    "            # Forward pass \n",
    "            outputs = model(inputs) \n",
    "            loss = criterion(outputs.squeeze(), targets) \n",
    "\n",
    "            # Backward pass and optimization\n",
    "            optimizer.zero_grad() \n",
    "            loss.backward()\n",
    "            optimizer.step() \n",
    "\n",
    "            total_loss += loss.item() \n",
    "\n",
    "        print(f\"Epoch {epoch+1}/{num_epochs}, Loss: {total_loss/len(train_loader):.4f}\")"
   ]
  },
  {
   "cell_type": "code",
   "execution_count": 20,
   "id": "a3dda697-74d1-479a-acac-cc85fbe2a321",
   "metadata": {},
   "outputs": [
    {
     "name": "stdout",
     "output_type": "stream",
     "text": [
      "Epoch 1/20, Loss: 0.0222\n",
      "Epoch 2/20, Loss: 0.0104\n",
      "Epoch 3/20, Loss: 0.0090\n",
      "Epoch 4/20, Loss: 0.0085\n",
      "Epoch 5/20, Loss: 0.0082\n",
      "Epoch 6/20, Loss: 0.0079\n",
      "Epoch 7/20, Loss: 0.0078\n",
      "Epoch 8/20, Loss: 0.0076\n",
      "Epoch 9/20, Loss: 0.0076\n",
      "Epoch 10/20, Loss: 0.0074\n",
      "Epoch 11/20, Loss: 0.0073\n",
      "Epoch 12/20, Loss: 0.0073\n",
      "Epoch 13/20, Loss: 0.0073\n",
      "Epoch 14/20, Loss: 0.0072\n",
      "Epoch 15/20, Loss: 0.0072\n",
      "Epoch 16/20, Loss: 0.0072\n",
      "Epoch 17/20, Loss: 0.0071\n",
      "Epoch 18/20, Loss: 0.0071\n",
      "Epoch 19/20, Loss: 0.0070\n",
      "Epoch 20/20, Loss: 0.0070\n"
     ]
    }
   ],
   "source": [
    "# Train the model \n",
    "train_model(model, train_loader, criterion, optimizer) "
   ]
  },
  {
   "cell_type": "code",
   "execution_count": 22,
   "id": "5a138a86-4723-40e8-80df-14aeb90fd995",
   "metadata": {},
   "outputs": [],
   "source": [
    "# Save the Model \n",
    "torch.save(model.state_dict(), \"transformer_model.pth\") "
   ]
  },
  {
   "cell_type": "code",
   "execution_count": 24,
   "id": "42f7abcb-3055-482f-8f98-d73e2078a6cd",
   "metadata": {},
   "outputs": [
    {
     "ename": "AttributeError",
     "evalue": "'Transformer' object has no attribute 'load_state_dic'",
     "output_type": "error",
     "traceback": [
      "\u001b[1;31m---------------------------------------------------------------------------\u001b[0m",
      "\u001b[1;31mAttributeError\u001b[0m                            Traceback (most recent call last)",
      "Cell \u001b[1;32mIn[24], line 2\u001b[0m\n\u001b[0;32m      1\u001b[0m \u001b[38;5;66;03m# Re-load the model \u001b[39;00m\n\u001b[1;32m----> 2\u001b[0m model\u001b[38;5;241m.\u001b[39mload_state_dic(torch\u001b[38;5;241m.\u001b[39mload(\u001b[38;5;124m\"\u001b[39m\u001b[38;5;124mtransformer_model.pth\u001b[39m\u001b[38;5;124m\"\u001b[39m))\n",
      "File \u001b[1;32m~\\anaconda3\\Lib\\site-packages\\torch\\nn\\modules\\module.py:1709\u001b[0m, in \u001b[0;36mModule.__getattr__\u001b[1;34m(self, name)\u001b[0m\n\u001b[0;32m   1707\u001b[0m     \u001b[38;5;28;01mif\u001b[39;00m name \u001b[38;5;129;01min\u001b[39;00m modules:\n\u001b[0;32m   1708\u001b[0m         \u001b[38;5;28;01mreturn\u001b[39;00m modules[name]\n\u001b[1;32m-> 1709\u001b[0m \u001b[38;5;28;01mraise\u001b[39;00m \u001b[38;5;167;01mAttributeError\u001b[39;00m(\u001b[38;5;124mf\u001b[39m\u001b[38;5;124m\"\u001b[39m\u001b[38;5;124m'\u001b[39m\u001b[38;5;132;01m{\u001b[39;00m\u001b[38;5;28mtype\u001b[39m(\u001b[38;5;28mself\u001b[39m)\u001b[38;5;241m.\u001b[39m\u001b[38;5;18m__name__\u001b[39m\u001b[38;5;132;01m}\u001b[39;00m\u001b[38;5;124m'\u001b[39m\u001b[38;5;124m object has no attribute \u001b[39m\u001b[38;5;124m'\u001b[39m\u001b[38;5;132;01m{\u001b[39;00mname\u001b[38;5;132;01m}\u001b[39;00m\u001b[38;5;124m'\u001b[39m\u001b[38;5;124m\"\u001b[39m)\n",
      "\u001b[1;31mAttributeError\u001b[0m: 'Transformer' object has no attribute 'load_state_dic'"
     ]
    }
   ],
   "source": [
    "# Re-load the model \n",
    "model.load_state_dic(torch.load(\"transformer_model.pth\"))"
   ]
  },
  {
   "cell_type": "code",
   "execution_count": 26,
   "id": "c67c52e5-e8ee-45f1-bc7b-025ab8fd596a",
   "metadata": {},
   "outputs": [],
   "source": [
    "# Evaluation \n",
    "def evaluate_model(model, test_loader, criterion):\n",
    "    model.eval() # Set model to evaluation mode \n",
    "    total_loss = 0.0 \n",
    "    with torch.no_grad(): \n",
    "        for inputs, targets in test_loader: \n",
    "            inputs, targets = inputs.to(device), targets.to(device)\n",
    "            outputs = model(inputs) \n",
    "            loss = criterion(outputs.squeeze(), targets) \n",
    "            total_loss += loss.item() \n",
    "    print(f\"Test Loss: {total_loss/len(test_loader):.4f}\") \n",
    "    "
   ]
  },
  {
   "cell_type": "code",
   "execution_count": 28,
   "id": "988ae37f-36fc-4f06-a474-014537a343db",
   "metadata": {},
   "outputs": [
    {
     "name": "stdout",
     "output_type": "stream",
     "text": [
      "Test Loss: 0.0076\n"
     ]
    }
   ],
   "source": [
    "# Evalute the model\n",
    "evaluate_model(model, test_loader, criterion) "
   ]
  },
  {
   "cell_type": "markdown",
   "id": "9c314c66-640b-4bf1-9fdd-482045a78f34",
   "metadata": {},
   "source": [
    "### Use LSTM Model "
   ]
  },
  {
   "cell_type": "code",
   "execution_count": 16,
   "id": "70e210bf-e9dd-4801-8f71-36bb6d70f8b3",
   "metadata": {},
   "outputs": [],
   "source": [
    "# Custom dataset\n",
    "class LSTMDataset(Dataset): \n",
    "    def __init__(self, inputs, targets): \n",
    "        self.inputs = torch.tensor(inputs, dtype=torch.float32).unsqueeze(1)  \n",
    "        self.targets = torch.tensor(targets, dtype=torch.float32).unsqueeze(1)  \n",
    "    \n",
    "    def __len__(self): \n",
    "        return len(self.inputs) \n",
    "\n",
    "    def __getitem__(self, idx): \n",
    "        return self.inputs[idx], self.targets[idx] "
   ]
  },
  {
   "cell_type": "code",
   "execution_count": 46,
   "id": "2f0423ec-ae1f-42da-b469-3710f5d3c22c",
   "metadata": {},
   "outputs": [],
   "source": [
    "# Write and evalute LSTM model \n",
    "class LSTMModel(nn.Module): \n",
    "    def __init__(self, input_size, hidden_size=100, output_size=1, num_layers=3, dropout_rate=0.1): \n",
    "        super(LSTMModel, self).__init__() \n",
    "        self.lstm = nn.LSTM(input_size, hidden_size, num_layers, batch_first=True, dropout=dropout_rate)\n",
    "        self.fc = nn.Linear(hidden_size, output_size) \n",
    "\n",
    "    def forward(self, x): \n",
    "        out, _ = self.lstm(x)\n",
    "        out = self.fc(out[:,-1,:]) \n",
    "        return out "
   ]
  },
  {
   "cell_type": "code",
   "execution_count": 48,
   "id": "af41d747-ea0a-4176-a33a-81101123378c",
   "metadata": {},
   "outputs": [],
   "source": [
    "# Training function \n",
    "def LSTM_train_model(model, train_loader, criterion, optimizer, epochs=20): \n",
    "    for epoch in range(epochs): \n",
    "        model.train()\n",
    "        train_loss = 0.0 \n",
    "        for X_batch, y_batch in train_loader: \n",
    "            optimizer.zero_grad() \n",
    "            outputs = model(X_batch) \n",
    "            loss = criterion(outputs, y_batch) \n",
    "            loss.backward() \n",
    "            optimizer.step() \n",
    "            train_loss += loss.item() * X_batch.size(0) \n",
    "        print(f\"Epoch {epoch+1}/{epochs}, Train Loss: {train_loss/len(train_loader.dataset):.4f}\") \n",
    "\n",
    "# Evaluate the model \n",
    "def LSTM_evaluate_model(model, test_loader, criterion): \n",
    "    test_loss = 0.0 \n",
    "    model.eval() \n",
    "    with torch.no_grad(): \n",
    "        for X_batch, y_batch in test_loader: \n",
    "            outputs = model(X_batch) \n",
    "            loss = criterion(outputs, y_batch) \n",
    "            test_loss += loss.item() * X_batch.size(0) \n",
    "    print(f\"Test Loss: {test_loss/len(test_loader.dataset):.4f}\") \n",
    "\n",
    "# Predict\n",
    "def LSTM_predict_model(model, X):\n",
    "    model.eval()\n",
    "    with torch.no_grad():\n",
    "        return model(X).numpy()"
   ]
  },
  {
   "cell_type": "code",
   "execution_count": 50,
   "id": "2bf0a4cf-4c83-4854-9982-96c6a7b92a45",
   "metadata": {},
   "outputs": [],
   "source": [
    "# Create PyTorch datasets \n",
    "LSTM_train_dataset = LSTMDataset(X_train, y_train) \n",
    "LSTM_test_dataset = LSTMDataset(X_test, y_test) "
   ]
  },
  {
   "cell_type": "code",
   "execution_count": 52,
   "id": "7d78ef63-9a0d-4a80-846f-abb4f3c041b5",
   "metadata": {},
   "outputs": [],
   "source": [
    "# Create DataLoaders\n",
    "LSTM_train_loader = DataLoader(LSTM_train_dataset, batch_size=32, shuffle=True) \n",
    "LSTM_test_loader = DataLoader(LSTM_test_dataset, batch_size=32, shuffle=False) "
   ]
  },
  {
   "cell_type": "code",
   "execution_count": 54,
   "id": "693b4c79-4a7b-473f-ab5e-4391c45a7914",
   "metadata": {
    "scrolled": true
   },
   "outputs": [
    {
     "data": {
      "text/plain": [
       "LSTMModel(\n",
       "  (lstm): LSTM(511, 511, num_layers=3, batch_first=True, dropout=0.1)\n",
       "  (fc): Linear(in_features=511, out_features=1, bias=True)\n",
       ")"
      ]
     },
     "execution_count": 54,
     "metadata": {},
     "output_type": "execute_result"
    }
   ],
   "source": [
    "# Model Configuration \n",
    "input_dim = X_train.shape[1] # Number of input features \n",
    "lstm_model = LSTMModel(input_size=input_dim)\n",
    "\n",
    "# Define Loss Function and Optimizer \n",
    "criterion = nn.MSELoss() # Mean Squared Error \n",
    "optimizer = optim.Adam(lstm_model.parameters(), lr=0.001) \n",
    "\n",
    "# Move model to GPU if available \n",
    "device = torch.device(\"cuda\" if torch.cuda.is_available() else \"cpu\") \n",
    "lstm_model.to(device) "
   ]
  },
  {
   "cell_type": "code",
   "execution_count": 56,
   "id": "07726b03-2ecc-4327-94ea-fb48921b6f09",
   "metadata": {},
   "outputs": [
    {
     "name": "stdout",
     "output_type": "stream",
     "text": [
      "Epoch 1/2, Train Loss: 0.0101\n",
      "Epoch 2/2, Train Loss: 0.0089\n"
     ]
    }
   ],
   "source": [
    "# Train LSTM model\n",
    "LSTM_train_model(lstm_model, LSTM_train_loader, criterion, optimizer, epochs=20) "
   ]
  },
  {
   "cell_type": "code",
   "execution_count": 229,
   "id": "ba536be5-fc6a-4309-8f57-e96afa0b7ee6",
   "metadata": {},
   "outputs": [],
   "source": [
    "# def evaluate_with_confusion_matrix(model, test_loader, criterion, bins=None): \n",
    "#     model.eval() \n",
    "#     total_loss = 0.0 \n",
    "#     all_targets = [] \n",
    "#     all_predictions = [] \n",
    "\n",
    "#     with torch.no_grad(): \n",
    "#         for inputs, targets in test_loader: \n",
    "#             inputs, targets = inputs.to(device), targets.to(device) \n",
    "\n",
    "#             # Forward pass \n",
    "#             outputs = model(inputs) \n",
    "#             loss = criterion(outputs.squeeze(), targets) \n",
    "#             total_loss += loss.item() \n",
    "\n",
    "#             # Collect predictions and targets \n",
    "#             all_targets.extend(targets.cpu().numpy()) \n",
    "#             all_predictions.extend(outputs.squeeze().cpu().numpy()) \n",
    "            \n",
    "#     # Discretize predictions and targets into categories (bins) \n",
    "#     if bins is None: \n",
    "#         bins = np.linspace(min(all_targets + all_predictions), max(all_targets + all_predictions), num=5)\n",
    "#     predicted_categories = np.digitize(all_predictions, bins) - 1 \n",
    "#     actual_categories = np.digitize(all_targets, bins) - 1 \n",
    "\n",
    "#     # Calculate confusion matrix \n",
    "#     cm = confusion_matrix(actual_categories, predicted_categories) \n",
    "#     disp = ConfusionMatrixDisplay(confusion_matrix=cm, display_labels=np.arange(len(bins)-1))\n",
    "#     disp.plot(cmap='Blues', xticks_rotation='vertical') \n",
    "\n",
    "#     print(f\"Test Loss: {total_loss/len(test_loader):.4f}\") \n",
    "#     return cm "
   ]
  },
  {
   "cell_type": "code",
   "execution_count": 232,
   "id": "a0b0bacf-d7fd-482f-860b-fe2d07c51161",
   "metadata": {},
   "outputs": [
    {
     "ename": "ValueError",
     "evalue": "The number of FixedLocator locations (5), usually from a call to set_ticks, does not match the number of labels (4).",
     "output_type": "error",
     "traceback": [
      "\u001b[1;31m---------------------------------------------------------------------------\u001b[0m",
      "\u001b[1;31mValueError\u001b[0m                                Traceback (most recent call last)",
      "Cell \u001b[1;32mIn[232], line 1\u001b[0m\n\u001b[1;32m----> 1\u001b[0m conf_matrix \u001b[38;5;241m=\u001b[39m evaluate_with_confusion_matrix(model, test_loader, criterion)\n",
      "Cell \u001b[1;32mIn[229], line 29\u001b[0m, in \u001b[0;36mevaluate_with_confusion_matrix\u001b[1;34m(model, test_loader, criterion, bins)\u001b[0m\n\u001b[0;32m     27\u001b[0m cm \u001b[38;5;241m=\u001b[39m confusion_matrix(actual_categories, predicted_categories) \n\u001b[0;32m     28\u001b[0m disp \u001b[38;5;241m=\u001b[39m ConfusionMatrixDisplay(confusion_matrix\u001b[38;5;241m=\u001b[39mcm, display_labels\u001b[38;5;241m=\u001b[39mnp\u001b[38;5;241m.\u001b[39marange(\u001b[38;5;28mlen\u001b[39m(bins)\u001b[38;5;241m-\u001b[39m\u001b[38;5;241m1\u001b[39m))\n\u001b[1;32m---> 29\u001b[0m disp\u001b[38;5;241m.\u001b[39mplot(cmap\u001b[38;5;241m=\u001b[39m\u001b[38;5;124m'\u001b[39m\u001b[38;5;124mBlues\u001b[39m\u001b[38;5;124m'\u001b[39m, xticks_rotation\u001b[38;5;241m=\u001b[39m\u001b[38;5;124m'\u001b[39m\u001b[38;5;124mvertical\u001b[39m\u001b[38;5;124m'\u001b[39m) \n\u001b[0;32m     31\u001b[0m \u001b[38;5;28mprint\u001b[39m(\u001b[38;5;124mf\u001b[39m\u001b[38;5;124m\"\u001b[39m\u001b[38;5;124mTest Loss: \u001b[39m\u001b[38;5;132;01m{\u001b[39;00mtotal_loss\u001b[38;5;241m/\u001b[39m\u001b[38;5;28mlen\u001b[39m(test_loader)\u001b[38;5;132;01m:\u001b[39;00m\u001b[38;5;124m.4f\u001b[39m\u001b[38;5;132;01m}\u001b[39;00m\u001b[38;5;124m\"\u001b[39m) \n\u001b[0;32m     32\u001b[0m \u001b[38;5;28;01mreturn\u001b[39;00m cm\n",
      "File \u001b[1;32m~\\anaconda3\\Lib\\site-packages\\sklearn\\metrics\\_plot\\confusion_matrix.py:181\u001b[0m, in \u001b[0;36mConfusionMatrixDisplay.plot\u001b[1;34m(self, include_values, cmap, xticks_rotation, values_format, ax, colorbar, im_kw, text_kw)\u001b[0m\n\u001b[0;32m    179\u001b[0m \u001b[38;5;28;01mif\u001b[39;00m colorbar:\n\u001b[0;32m    180\u001b[0m     fig\u001b[38;5;241m.\u001b[39mcolorbar(\u001b[38;5;28mself\u001b[39m\u001b[38;5;241m.\u001b[39mim_, ax\u001b[38;5;241m=\u001b[39max)\n\u001b[1;32m--> 181\u001b[0m ax\u001b[38;5;241m.\u001b[39mset(\n\u001b[0;32m    182\u001b[0m     xticks\u001b[38;5;241m=\u001b[39mnp\u001b[38;5;241m.\u001b[39marange(n_classes),\n\u001b[0;32m    183\u001b[0m     yticks\u001b[38;5;241m=\u001b[39mnp\u001b[38;5;241m.\u001b[39marange(n_classes),\n\u001b[0;32m    184\u001b[0m     xticklabels\u001b[38;5;241m=\u001b[39mdisplay_labels,\n\u001b[0;32m    185\u001b[0m     yticklabels\u001b[38;5;241m=\u001b[39mdisplay_labels,\n\u001b[0;32m    186\u001b[0m     ylabel\u001b[38;5;241m=\u001b[39m\u001b[38;5;124m\"\u001b[39m\u001b[38;5;124mTrue label\u001b[39m\u001b[38;5;124m\"\u001b[39m,\n\u001b[0;32m    187\u001b[0m     xlabel\u001b[38;5;241m=\u001b[39m\u001b[38;5;124m\"\u001b[39m\u001b[38;5;124mPredicted label\u001b[39m\u001b[38;5;124m\"\u001b[39m,\n\u001b[0;32m    188\u001b[0m )\n\u001b[0;32m    190\u001b[0m ax\u001b[38;5;241m.\u001b[39mset_ylim((n_classes \u001b[38;5;241m-\u001b[39m \u001b[38;5;241m0.5\u001b[39m, \u001b[38;5;241m-\u001b[39m\u001b[38;5;241m0.5\u001b[39m))\n\u001b[0;32m    191\u001b[0m plt\u001b[38;5;241m.\u001b[39msetp(ax\u001b[38;5;241m.\u001b[39mget_xticklabels(), rotation\u001b[38;5;241m=\u001b[39mxticks_rotation)\n",
      "File \u001b[1;32m~\\anaconda3\\Lib\\site-packages\\matplotlib\\artist.py:147\u001b[0m, in \u001b[0;36mArtist.__init_subclass__.<locals>.<lambda>\u001b[1;34m(self, **kwargs)\u001b[0m\n\u001b[0;32m    139\u001b[0m \u001b[38;5;28;01mif\u001b[39;00m \u001b[38;5;129;01mnot\u001b[39;00m \u001b[38;5;28mhasattr\u001b[39m(\u001b[38;5;28mcls\u001b[39m\u001b[38;5;241m.\u001b[39mset, \u001b[38;5;124m'\u001b[39m\u001b[38;5;124m_autogenerated_signature\u001b[39m\u001b[38;5;124m'\u001b[39m):\n\u001b[0;32m    140\u001b[0m     \u001b[38;5;66;03m# Don't overwrite cls.set if the subclass or one of its parents\u001b[39;00m\n\u001b[0;32m    141\u001b[0m     \u001b[38;5;66;03m# has defined a set method set itself.\u001b[39;00m\n\u001b[0;32m    142\u001b[0m     \u001b[38;5;66;03m# If there was no explicit definition, cls.set is inherited from\u001b[39;00m\n\u001b[0;32m    143\u001b[0m     \u001b[38;5;66;03m# the hierarchy of auto-generated set methods, which hold the\u001b[39;00m\n\u001b[0;32m    144\u001b[0m     \u001b[38;5;66;03m# flag _autogenerated_signature.\u001b[39;00m\n\u001b[0;32m    145\u001b[0m     \u001b[38;5;28;01mreturn\u001b[39;00m\n\u001b[1;32m--> 147\u001b[0m \u001b[38;5;28mcls\u001b[39m\u001b[38;5;241m.\u001b[39mset \u001b[38;5;241m=\u001b[39m \u001b[38;5;28;01mlambda\u001b[39;00m \u001b[38;5;28mself\u001b[39m, \u001b[38;5;241m*\u001b[39m\u001b[38;5;241m*\u001b[39mkwargs: Artist\u001b[38;5;241m.\u001b[39mset(\u001b[38;5;28mself\u001b[39m, \u001b[38;5;241m*\u001b[39m\u001b[38;5;241m*\u001b[39mkwargs)\n\u001b[0;32m    148\u001b[0m \u001b[38;5;28mcls\u001b[39m\u001b[38;5;241m.\u001b[39mset\u001b[38;5;241m.\u001b[39m\u001b[38;5;18m__name__\u001b[39m \u001b[38;5;241m=\u001b[39m \u001b[38;5;124m\"\u001b[39m\u001b[38;5;124mset\u001b[39m\u001b[38;5;124m\"\u001b[39m\n\u001b[0;32m    149\u001b[0m \u001b[38;5;28mcls\u001b[39m\u001b[38;5;241m.\u001b[39mset\u001b[38;5;241m.\u001b[39m\u001b[38;5;18m__qualname__\u001b[39m \u001b[38;5;241m=\u001b[39m \u001b[38;5;124mf\u001b[39m\u001b[38;5;124m\"\u001b[39m\u001b[38;5;132;01m{\u001b[39;00m\u001b[38;5;28mcls\u001b[39m\u001b[38;5;241m.\u001b[39m\u001b[38;5;18m__qualname__\u001b[39m\u001b[38;5;132;01m}\u001b[39;00m\u001b[38;5;124m.set\u001b[39m\u001b[38;5;124m\"\u001b[39m\n",
      "File \u001b[1;32m~\\anaconda3\\Lib\\site-packages\\matplotlib\\artist.py:1231\u001b[0m, in \u001b[0;36mArtist.set\u001b[1;34m(self, **kwargs)\u001b[0m\n\u001b[0;32m   1227\u001b[0m \u001b[38;5;28;01mdef\u001b[39;00m \u001b[38;5;21mset\u001b[39m(\u001b[38;5;28mself\u001b[39m, \u001b[38;5;241m*\u001b[39m\u001b[38;5;241m*\u001b[39mkwargs):\n\u001b[0;32m   1228\u001b[0m     \u001b[38;5;66;03m# docstring and signature are auto-generated via\u001b[39;00m\n\u001b[0;32m   1229\u001b[0m     \u001b[38;5;66;03m# Artist._update_set_signature_and_docstring() at the end of the\u001b[39;00m\n\u001b[0;32m   1230\u001b[0m     \u001b[38;5;66;03m# module.\u001b[39;00m\n\u001b[1;32m-> 1231\u001b[0m     \u001b[38;5;28;01mreturn\u001b[39;00m \u001b[38;5;28mself\u001b[39m\u001b[38;5;241m.\u001b[39m_internal_update(cbook\u001b[38;5;241m.\u001b[39mnormalize_kwargs(kwargs, \u001b[38;5;28mself\u001b[39m))\n",
      "File \u001b[1;32m~\\anaconda3\\Lib\\site-packages\\matplotlib\\artist.py:1223\u001b[0m, in \u001b[0;36mArtist._internal_update\u001b[1;34m(self, kwargs)\u001b[0m\n\u001b[0;32m   1216\u001b[0m \u001b[38;5;28;01mdef\u001b[39;00m \u001b[38;5;21m_internal_update\u001b[39m(\u001b[38;5;28mself\u001b[39m, kwargs):\n\u001b[0;32m   1217\u001b[0m \u001b[38;5;250m    \u001b[39m\u001b[38;5;124;03m\"\"\"\u001b[39;00m\n\u001b[0;32m   1218\u001b[0m \u001b[38;5;124;03m    Update artist properties without prenormalizing them, but generating\u001b[39;00m\n\u001b[0;32m   1219\u001b[0m \u001b[38;5;124;03m    errors as if calling `set`.\u001b[39;00m\n\u001b[0;32m   1220\u001b[0m \n\u001b[0;32m   1221\u001b[0m \u001b[38;5;124;03m    The lack of prenormalization is to maintain backcompatibility.\u001b[39;00m\n\u001b[0;32m   1222\u001b[0m \u001b[38;5;124;03m    \"\"\"\u001b[39;00m\n\u001b[1;32m-> 1223\u001b[0m     \u001b[38;5;28;01mreturn\u001b[39;00m \u001b[38;5;28mself\u001b[39m\u001b[38;5;241m.\u001b[39m_update_props(\n\u001b[0;32m   1224\u001b[0m         kwargs, \u001b[38;5;124m\"\u001b[39m\u001b[38;5;132;01m{cls.__name__}\u001b[39;00m\u001b[38;5;124m.set() got an unexpected keyword argument \u001b[39m\u001b[38;5;124m\"\u001b[39m\n\u001b[0;32m   1225\u001b[0m         \u001b[38;5;124m\"\u001b[39m\u001b[38;5;132;01m{prop_name!r}\u001b[39;00m\u001b[38;5;124m\"\u001b[39m)\n",
      "File \u001b[1;32m~\\anaconda3\\Lib\\site-packages\\matplotlib\\artist.py:1199\u001b[0m, in \u001b[0;36mArtist._update_props\u001b[1;34m(self, props, errfmt)\u001b[0m\n\u001b[0;32m   1196\u001b[0m             \u001b[38;5;28;01mif\u001b[39;00m \u001b[38;5;129;01mnot\u001b[39;00m \u001b[38;5;28mcallable\u001b[39m(func):\n\u001b[0;32m   1197\u001b[0m                 \u001b[38;5;28;01mraise\u001b[39;00m \u001b[38;5;167;01mAttributeError\u001b[39;00m(\n\u001b[0;32m   1198\u001b[0m                     errfmt\u001b[38;5;241m.\u001b[39mformat(\u001b[38;5;28mcls\u001b[39m\u001b[38;5;241m=\u001b[39m\u001b[38;5;28mtype\u001b[39m(\u001b[38;5;28mself\u001b[39m), prop_name\u001b[38;5;241m=\u001b[39mk))\n\u001b[1;32m-> 1199\u001b[0m             ret\u001b[38;5;241m.\u001b[39mappend(func(v))\n\u001b[0;32m   1200\u001b[0m \u001b[38;5;28;01mif\u001b[39;00m ret:\n\u001b[0;32m   1201\u001b[0m     \u001b[38;5;28mself\u001b[39m\u001b[38;5;241m.\u001b[39mpchanged()\n",
      "File \u001b[1;32m~\\anaconda3\\Lib\\site-packages\\matplotlib\\axes\\_base.py:74\u001b[0m, in \u001b[0;36m_axis_method_wrapper.__set_name__.<locals>.wrapper\u001b[1;34m(self, *args, **kwargs)\u001b[0m\n\u001b[0;32m     73\u001b[0m \u001b[38;5;28;01mdef\u001b[39;00m \u001b[38;5;21mwrapper\u001b[39m(\u001b[38;5;28mself\u001b[39m, \u001b[38;5;241m*\u001b[39margs, \u001b[38;5;241m*\u001b[39m\u001b[38;5;241m*\u001b[39mkwargs):\n\u001b[1;32m---> 74\u001b[0m     \u001b[38;5;28;01mreturn\u001b[39;00m get_method(\u001b[38;5;28mself\u001b[39m)(\u001b[38;5;241m*\u001b[39margs, \u001b[38;5;241m*\u001b[39m\u001b[38;5;241m*\u001b[39mkwargs)\n",
      "File \u001b[1;32m~\\anaconda3\\Lib\\site-packages\\matplotlib\\_api\\deprecation.py:297\u001b[0m, in \u001b[0;36mrename_parameter.<locals>.wrapper\u001b[1;34m(*args, **kwargs)\u001b[0m\n\u001b[0;32m    292\u001b[0m     warn_deprecated(\n\u001b[0;32m    293\u001b[0m         since, message\u001b[38;5;241m=\u001b[39m\u001b[38;5;124mf\u001b[39m\u001b[38;5;124m\"\u001b[39m\u001b[38;5;124mThe \u001b[39m\u001b[38;5;132;01m{\u001b[39;00mold\u001b[38;5;132;01m!r}\u001b[39;00m\u001b[38;5;124m parameter of \u001b[39m\u001b[38;5;132;01m{\u001b[39;00mfunc\u001b[38;5;241m.\u001b[39m\u001b[38;5;18m__name__\u001b[39m\u001b[38;5;132;01m}\u001b[39;00m\u001b[38;5;124m() \u001b[39m\u001b[38;5;124m\"\u001b[39m\n\u001b[0;32m    294\u001b[0m         \u001b[38;5;124mf\u001b[39m\u001b[38;5;124m\"\u001b[39m\u001b[38;5;124mhas been renamed \u001b[39m\u001b[38;5;132;01m{\u001b[39;00mnew\u001b[38;5;132;01m!r}\u001b[39;00m\u001b[38;5;124m since Matplotlib \u001b[39m\u001b[38;5;132;01m{\u001b[39;00msince\u001b[38;5;132;01m}\u001b[39;00m\u001b[38;5;124m; support \u001b[39m\u001b[38;5;124m\"\u001b[39m\n\u001b[0;32m    295\u001b[0m         \u001b[38;5;124mf\u001b[39m\u001b[38;5;124m\"\u001b[39m\u001b[38;5;124mfor the old name will be dropped %(removal)s.\u001b[39m\u001b[38;5;124m\"\u001b[39m)\n\u001b[0;32m    296\u001b[0m     kwargs[new] \u001b[38;5;241m=\u001b[39m kwargs\u001b[38;5;241m.\u001b[39mpop(old)\n\u001b[1;32m--> 297\u001b[0m \u001b[38;5;28;01mreturn\u001b[39;00m func(\u001b[38;5;241m*\u001b[39margs, \u001b[38;5;241m*\u001b[39m\u001b[38;5;241m*\u001b[39mkwargs)\n",
      "File \u001b[1;32m~\\anaconda3\\Lib\\site-packages\\matplotlib\\axis.py:1969\u001b[0m, in \u001b[0;36mAxis.set_ticklabels\u001b[1;34m(self, labels, minor, fontdict, **kwargs)\u001b[0m\n\u001b[0;32m   1965\u001b[0m \u001b[38;5;28;01mif\u001b[39;00m \u001b[38;5;28misinstance\u001b[39m(locator, mticker\u001b[38;5;241m.\u001b[39mFixedLocator):\n\u001b[0;32m   1966\u001b[0m     \u001b[38;5;66;03m# Passing [] as a list of labels is often used as a way to\u001b[39;00m\n\u001b[0;32m   1967\u001b[0m     \u001b[38;5;66;03m# remove all tick labels, so only error for > 0 labels\u001b[39;00m\n\u001b[0;32m   1968\u001b[0m     \u001b[38;5;28;01mif\u001b[39;00m \u001b[38;5;28mlen\u001b[39m(locator\u001b[38;5;241m.\u001b[39mlocs) \u001b[38;5;241m!=\u001b[39m \u001b[38;5;28mlen\u001b[39m(labels) \u001b[38;5;129;01mand\u001b[39;00m \u001b[38;5;28mlen\u001b[39m(labels) \u001b[38;5;241m!=\u001b[39m \u001b[38;5;241m0\u001b[39m:\n\u001b[1;32m-> 1969\u001b[0m         \u001b[38;5;28;01mraise\u001b[39;00m \u001b[38;5;167;01mValueError\u001b[39;00m(\n\u001b[0;32m   1970\u001b[0m             \u001b[38;5;124m\"\u001b[39m\u001b[38;5;124mThe number of FixedLocator locations\u001b[39m\u001b[38;5;124m\"\u001b[39m\n\u001b[0;32m   1971\u001b[0m             \u001b[38;5;124mf\u001b[39m\u001b[38;5;124m\"\u001b[39m\u001b[38;5;124m (\u001b[39m\u001b[38;5;132;01m{\u001b[39;00m\u001b[38;5;28mlen\u001b[39m(locator\u001b[38;5;241m.\u001b[39mlocs)\u001b[38;5;132;01m}\u001b[39;00m\u001b[38;5;124m), usually from a call to\u001b[39m\u001b[38;5;124m\"\u001b[39m\n\u001b[0;32m   1972\u001b[0m             \u001b[38;5;124m\"\u001b[39m\u001b[38;5;124m set_ticks, does not match\u001b[39m\u001b[38;5;124m\"\u001b[39m\n\u001b[0;32m   1973\u001b[0m             \u001b[38;5;124mf\u001b[39m\u001b[38;5;124m\"\u001b[39m\u001b[38;5;124m the number of labels (\u001b[39m\u001b[38;5;132;01m{\u001b[39;00m\u001b[38;5;28mlen\u001b[39m(labels)\u001b[38;5;132;01m}\u001b[39;00m\u001b[38;5;124m).\u001b[39m\u001b[38;5;124m\"\u001b[39m)\n\u001b[0;32m   1974\u001b[0m     tickd \u001b[38;5;241m=\u001b[39m {loc: lab \u001b[38;5;28;01mfor\u001b[39;00m loc, lab \u001b[38;5;129;01min\u001b[39;00m \u001b[38;5;28mzip\u001b[39m(locator\u001b[38;5;241m.\u001b[39mlocs, labels)}\n\u001b[0;32m   1975\u001b[0m     func \u001b[38;5;241m=\u001b[39m functools\u001b[38;5;241m.\u001b[39mpartial(\u001b[38;5;28mself\u001b[39m\u001b[38;5;241m.\u001b[39m_format_with_dict, tickd)\n",
      "\u001b[1;31mValueError\u001b[0m: The number of FixedLocator locations (5), usually from a call to set_ticks, does not match the number of labels (4)."
     ]
    },
    {
     "data": {
      "image/png": "[encoded data removed]",
      "text/plain": [
       "<Figure size 640x480 with 2 Axes>"
      ]
     },
     "metadata": {},
     "output_type": "display_data"
    }
   ],
   "source": [
    "# conf_matrix = evaluate_with_confusion_matrix(model, test_loader, criterion)"
   ]
  },
  {
   "cell_type": "code",
   "execution_count": 66,
   "id": "d87cd46b-0fc2-4712-af94-41df09f30d34",
   "metadata": {},
   "outputs": [],
   "source": [
    "def evaluate_regression_metrics(model, test_loader, criterion): \n",
    "    model.eval() \n",
    "    total_loss = 0.0 \n",
    "    all_targets = [] \n",
    "    all_predictions = [] \n",
    "\n",
    "    with torch.no_grad():\n",
    "        for inputs, targets in test_loader:\n",
    "            inputs, targets = inputs.to(device), targets.to(device)\n",
    "\n",
    "            # Forward pass\n",
    "            outputs = model(inputs) \n",
    "            loss = criterion(outputs.squeeze(), targets) \n",
    "            total_loss += loss.item() \n",
    "\n",
    "            # Collect predictions and targets \n",
    "            all_targets.extend(targets.cpu().numpy()) \n",
    "            all_predictions.extend(outputs.squeeze().cpu().numpy())\n",
    "    \n",
    "    # Calculate metrics\n",
    "    mse = mean_squared_error(all_targets, all_predictions) \n",
    "    mae = mean_absolute_error(all_targets, all_predictions) \n",
    "    rmse = np.sqrt(mse) \n",
    "\n",
    "    print(f\"Test Loss (MSE from criterion): {total_loss/len(test_loader):.4f}\")\n",
    "    print(f\"Mean Squared Error (MSE): {mse:.4f}\")\n",
    "    print(f\"Mean Absolute Error (MAE): {mae:.4f}\")\n",
    "    print(f\"Root Mean Squared Error (RMSE): {rmse:.4f}\")\n",
    "\n",
    "    return mse, mae, rmse\n",
    "    "
   ]
  },
  {
   "cell_type": "code",
   "execution_count": 32,
   "id": "022b992f-2b19-480d-ad51-4367e5de3564",
   "metadata": {},
   "outputs": [
    {
     "name": "stdout",
     "output_type": "stream",
     "text": [
      "For Test Loader: \n",
      "Test Loss (MSE from criterion): 0.0076\n",
      "Mean Squared Error (MSE): 0.0076\n",
      "Mean Absolute Error (MAE): 0.0644\n",
      "Root Mean Squared Error (RMSE): 0.0872\n",
      "For Train Loader: \n",
      "Test Loss (MSE from criterion): 0.0076\n",
      "Mean Squared Error (MSE): 0.0076\n",
      "Mean Absolute Error (MAE): 0.0644\n",
      "Root Mean Squared Error (RMSE): 0.0872\n"
     ]
    }
   ],
   "source": [
    "# Transformer Model\n",
    "print(\"For Test Loader: \") \n",
    "mse, mae, rmse = evaluate_regression_metrics(model, test_loader, criterion)\n",
    "print(\"For Train Loader: \") \n",
    "mse, mae, rmse = evaluate_regression_metrics(model, test_loader, criterion)"
   ]
  },
  {
   "cell_type": "code",
   "execution_count": 68,
   "id": "f644d6c2-1932-461a-a102-3f5b4318ae31",
   "metadata": {},
   "outputs": [
    {
     "name": "stderr",
     "output_type": "stream",
     "text": [
      "C:\\Users\\chamr\\anaconda3\\Lib\\site-packages\\torch\\nn\\modules\\loss.py:535: UserWarning: Using a target size (torch.Size([32, 1])) that is different to the input size (torch.Size([32])). This will likely lead to incorrect results due to broadcasting. Please ensure they have the same size.\n",
      "  return F.mse_loss(input, target, reduction=self.reduction)\n"
     ]
    },
    {
     "name": "stdout",
     "output_type": "stream",
     "text": [
      "Test Loss (MSE from criterion): 0.0206\n",
      "Mean Squared Error (MSE): 0.0088\n",
      "Mean Absolute Error (MAE): 0.0731\n",
      "Root Mean Squared Error (RMSE): 0.0937\n"
     ]
    },
    {
     "name": "stderr",
     "output_type": "stream",
     "text": [
      "C:\\Users\\chamr\\anaconda3\\Lib\\site-packages\\torch\\nn\\modules\\loss.py:535: UserWarning: Using a target size (torch.Size([13, 1])) that is different to the input size (torch.Size([13])). This will likely lead to incorrect results due to broadcasting. Please ensure they have the same size.\n",
      "  return F.mse_loss(input, target, reduction=self.reduction)\n"
     ]
    }
   ],
   "source": [
    "# LSTM Model \n",
    "mse, mae, rmse = evaluate_regression_metrics(lstm_model, LSTM_test_loader, criterion)"
   ]
  },
  {
   "cell_type": "markdown",
   "id": "cdfee2d0-d440-4c6e-916c-c974dd921f1e",
   "metadata": {},
   "source": [
    "## Evaluate using Test Dataset"
   ]
  },
  {
   "cell_type": "code",
   "execution_count": 239,
   "id": "d70f24b4-c444-4e49-a8b1-496148a8f8e3",
   "metadata": {},
   "outputs": [
    {
     "data": {
      "text/html": [
       "<div>\n",
       "<style scoped>\n",
       "    .dataframe tbody tr th:only-of-type {\n",
       "        vertical-align: middle;\n",
       "    }\n",
       "\n",
       "    .dataframe tbody tr th {\n",
       "        vertical-align: top;\n",
       "    }\n",
       "\n",
       "    .dataframe thead th {\n",
       "        text-align: right;\n",
       "    }\n",
       "</style>\n",
       "<table border=\"1\" class=\"dataframe\">\n",
       "  <thead>\n",
       "    <tr style=\"text-align: right;\">\n",
       "      <th></th>\n",
       "      <th>p_num</th>\n",
       "      <th>hour</th>\n",
       "      <th>minute</th>\n",
       "      <th>hour_sin</th>\n",
       "      <th>hour_cos</th>\n",
       "      <th>minute_sin</th>\n",
       "      <th>minute_cos</th>\n",
       "      <th>bg-5:55</th>\n",
       "      <th>bg-5:50</th>\n",
       "      <th>bg-5:45</th>\n",
       "      <th>...</th>\n",
       "      <th>activity-0:40</th>\n",
       "      <th>activity-0:35</th>\n",
       "      <th>activity-0:30</th>\n",
       "      <th>activity-0:25</th>\n",
       "      <th>activity-0:20</th>\n",
       "      <th>activity-0:15</th>\n",
       "      <th>activity-0:10</th>\n",
       "      <th>activity-0:05</th>\n",
       "      <th>activity-0:00</th>\n",
       "      <th>bg+1:00</th>\n",
       "    </tr>\n",
       "  </thead>\n",
       "  <tbody>\n",
       "    <tr>\n",
       "      <th>0</th>\n",
       "      <td>0</td>\n",
       "      <td>6</td>\n",
       "      <td>45</td>\n",
       "      <td>1.000000</td>\n",
       "      <td>6.123234e-17</td>\n",
       "      <td>-1.000000e+00</td>\n",
       "      <td>-1.836970e-16</td>\n",
       "      <td>0.375587</td>\n",
       "      <td>0.273438</td>\n",
       "      <td>0.294667</td>\n",
       "      <td>...</td>\n",
       "      <td>2</td>\n",
       "      <td>8</td>\n",
       "      <td>2</td>\n",
       "      <td>2</td>\n",
       "      <td>2</td>\n",
       "      <td>2</td>\n",
       "      <td>8</td>\n",
       "      <td>8</td>\n",
       "      <td>2</td>\n",
       "      <td>NaN</td>\n",
       "    </tr>\n",
       "    <tr>\n",
       "      <th>1</th>\n",
       "      <td>0</td>\n",
       "      <td>11</td>\n",
       "      <td>25</td>\n",
       "      <td>0.258819</td>\n",
       "      <td>-9.659258e-01</td>\n",
       "      <td>5.000000e-01</td>\n",
       "      <td>-8.660254e-01</td>\n",
       "      <td>0.207389</td>\n",
       "      <td>0.263021</td>\n",
       "      <td>0.292000</td>\n",
       "      <td>...</td>\n",
       "      <td>2</td>\n",
       "      <td>8</td>\n",
       "      <td>2</td>\n",
       "      <td>2</td>\n",
       "      <td>2</td>\n",
       "      <td>2</td>\n",
       "      <td>17</td>\n",
       "      <td>17</td>\n",
       "      <td>17</td>\n",
       "      <td>NaN</td>\n",
       "    </tr>\n",
       "    <tr>\n",
       "      <th>2</th>\n",
       "      <td>0</td>\n",
       "      <td>14</td>\n",
       "      <td>45</td>\n",
       "      <td>-0.500000</td>\n",
       "      <td>-8.660254e-01</td>\n",
       "      <td>-1.000000e+00</td>\n",
       "      <td>-1.836970e-16</td>\n",
       "      <td>0.117371</td>\n",
       "      <td>0.128906</td>\n",
       "      <td>0.094667</td>\n",
       "      <td>...</td>\n",
       "      <td>2</td>\n",
       "      <td>8</td>\n",
       "      <td>2</td>\n",
       "      <td>2</td>\n",
       "      <td>2</td>\n",
       "      <td>2</td>\n",
       "      <td>8</td>\n",
       "      <td>8</td>\n",
       "      <td>2</td>\n",
       "      <td>NaN</td>\n",
       "    </tr>\n",
       "    <tr>\n",
       "      <th>3</th>\n",
       "      <td>0</td>\n",
       "      <td>4</td>\n",
       "      <td>30</td>\n",
       "      <td>0.866025</td>\n",
       "      <td>5.000000e-01</td>\n",
       "      <td>5.665539e-16</td>\n",
       "      <td>-1.000000e+00</td>\n",
       "      <td>0.068858</td>\n",
       "      <td>0.046875</td>\n",
       "      <td>0.185333</td>\n",
       "      <td>...</td>\n",
       "      <td>2</td>\n",
       "      <td>8</td>\n",
       "      <td>2</td>\n",
       "      <td>2</td>\n",
       "      <td>2</td>\n",
       "      <td>2</td>\n",
       "      <td>8</td>\n",
       "      <td>8</td>\n",
       "      <td>2</td>\n",
       "      <td>NaN</td>\n",
       "    </tr>\n",
       "    <tr>\n",
       "      <th>4</th>\n",
       "      <td>0</td>\n",
       "      <td>4</td>\n",
       "      <td>20</td>\n",
       "      <td>0.866025</td>\n",
       "      <td>5.000000e-01</td>\n",
       "      <td>8.660254e-01</td>\n",
       "      <td>-5.000000e-01</td>\n",
       "      <td>0.239232</td>\n",
       "      <td>0.369792</td>\n",
       "      <td>0.228000</td>\n",
       "      <td>...</td>\n",
       "      <td>2</td>\n",
       "      <td>8</td>\n",
       "      <td>2</td>\n",
       "      <td>2</td>\n",
       "      <td>2</td>\n",
       "      <td>2</td>\n",
       "      <td>8</td>\n",
       "      <td>8</td>\n",
       "      <td>2</td>\n",
       "      <td>NaN</td>\n",
       "    </tr>\n",
       "  </tbody>\n",
       "</table>\n",
       "<p>5 rows × 512 columns</p>\n",
       "</div>"
      ],
      "text/plain": [
       "   p_num  hour  minute  hour_sin      hour_cos    minute_sin    minute_cos  \\\n",
       "0      0     6      45  1.000000  6.123234e-17 -1.000000e+00 -1.836970e-16   \n",
       "1      0    11      25  0.258819 -9.659258e-01  5.000000e-01 -8.660254e-01   \n",
       "2      0    14      45 -0.500000 -8.660254e-01 -1.000000e+00 -1.836970e-16   \n",
       "3      0     4      30  0.866025  5.000000e-01  5.665539e-16 -1.000000e+00   \n",
       "4      0     4      20  0.866025  5.000000e-01  8.660254e-01 -5.000000e-01   \n",
       "\n",
       "    bg-5:55   bg-5:50   bg-5:45  ...  activity-0:40  activity-0:35  \\\n",
       "0  0.375587  0.273438  0.294667  ...              2              8   \n",
       "1  0.207389  0.263021  0.292000  ...              2              8   \n",
       "2  0.117371  0.128906  0.094667  ...              2              8   \n",
       "3  0.068858  0.046875  0.185333  ...              2              8   \n",
       "4  0.239232  0.369792  0.228000  ...              2              8   \n",
       "\n",
       "   activity-0:30  activity-0:25  activity-0:20  activity-0:15  activity-0:10  \\\n",
       "0              2              2              2              2              8   \n",
       "1              2              2              2              2             17   \n",
       "2              2              2              2              2              8   \n",
       "3              2              2              2              2              8   \n",
       "4              2              2              2              2              8   \n",
       "\n",
       "   activity-0:05  activity-0:00  bg+1:00  \n",
       "0              8              2      NaN  \n",
       "1             17             17      NaN  \n",
       "2              8              2      NaN  \n",
       "3              8              2      NaN  \n",
       "4              8              2      NaN  \n",
       "\n",
       "[5 rows x 512 columns]"
      ]
     },
     "execution_count": 239,
     "metadata": {},
     "output_type": "execute_result"
    }
   ],
   "source": [
    "# Path to directory \n",
    "file_path = 'pre_process_testing_dataset.csv' \n",
    "\n",
    "test_dataset = pd.read_csv(file_path) \n",
    "test_dataset.head()"
   ]
  },
  {
   "cell_type": "code",
   "execution_count": 241,
   "id": "cf38e0da-806e-43fd-afe8-f9b53e5d8d87",
   "metadata": {},
   "outputs": [
    {
     "name": "stdout",
     "output_type": "stream",
     "text": [
      "         id\n",
      "0  p01_8459\n",
      "1  p01_8460\n",
      "2  p01_8461\n",
      "3  p01_8462\n",
      "4  p01_8463\n"
     ]
    }
   ],
   "source": [
    "# Retrieve participant id \n",
    "imputed_file_path = 'combined_test_batch_imputed.csv' \n",
    "\n",
    "imputed_file = pd.read_csv(imputed_file_path) \n",
    "\n",
    "final_result = imputed_file[['id']] \n",
    "print(final_result.head())"
   ]
  },
  {
   "cell_type": "code",
   "execution_count": 243,
   "id": "89c82d37-fed5-48e5-ad81-44939bec30f6",
   "metadata": {},
   "outputs": [],
   "source": [
    "# Define the target column \n",
    "target_col = 'bg+1:00' \n",
    "\n",
    "# Separate input features (all columns except the target) \n",
    "X_eval = test_dataset.drop(columns=[target_col]).values # input features as NumPy array \n",
    "\n",
    "# Separate output feature (target column) \n",
    "y_eval = test_dataset[target_col].values # Target as NumPy array "
   ]
  },
  {
   "cell_type": "code",
   "execution_count": 245,
   "id": "ddd4d7c3-1c05-4bbc-aada-498c5491269c",
   "metadata": {},
   "outputs": [],
   "source": [
    "class TransformerDatasetEval(Dataset):\n",
    "    def __init__(self, inputs):\n",
    "        self.inputs = torch.tensor(inputs, dtype=torch.float32)\n",
    "\n",
    "    def __len__(self):\n",
    "        return len(self.inputs)\n",
    "\n",
    "    def __getitem__(self, idx):\n",
    "        return self.inputs[idx]\n"
   ]
  },
  {
   "cell_type": "code",
   "execution_count": 247,
   "id": "69ce5847-cc93-4ecd-a0ef-b04b77fd25c4",
   "metadata": {},
   "outputs": [],
   "source": [
    "# Create PyTorch datasets \n",
    "eval_dataset = TransformerDatasetEval(X_eval) \n",
    "eval_loader = DataLoader(eval_dataset, batch_size=32, shuffle=False) "
   ]
  },
  {
   "cell_type": "code",
   "execution_count": 271,
   "id": "6b3b8f62-7c75-4d46-8b65-0e2e10a59e81",
   "metadata": {},
   "outputs": [],
   "source": [
    "def predict_bg_plus_one(model, data_loader): \n",
    "    model.eval()\n",
    "    predictions = [] \n",
    "\n",
    "    with torch.no_grad(): \n",
    "        for inputs in data_loader: \n",
    "            if isinstance(inputs, list): \n",
    "                inputs = torch.tensor(inputs, dtype=torch.float32) \n",
    "                \n",
    "            # Move inputs to the same device as the model        \n",
    "            inputs = inputs.to(device)\n",
    "\n",
    "            # Forward pass\n",
    "            outputs = model(inputs).squeeze()\n",
    "            predictions.extend(outputs.cpu().numpy()) # Collect predictions\n",
    "    \n",
    "    return predictions"
   ]
  },
  {
   "cell_type": "code",
   "execution_count": 277,
   "id": "24c29158-d3ea-4e5c-99b8-bd1fc96b3b1e",
   "metadata": {},
   "outputs": [
    {
     "name": "stdout",
     "output_type": "stream",
     "text": [
      "Scaler loaded from 'training_bg_prediction_scaler.pkl'\n",
      "Scaler parameters:\n",
      "Min: [2.2]\n",
      "Max: [27.8]\n",
      "Scale: [0.0390625]\n",
      "Training bg+1:00 min: 0.0\n",
      "Training bg+1:00 max: 1.0\n",
      "Final results saved to 'final_result_with_predictions.csv'\n"
     ]
    },
    {
     "name": "stderr",
     "output_type": "stream",
     "text": [
      "C:\\Users\\chamr\\AppData\\Local\\Temp\\ipykernel_17928\\4021755084.py:19: SettingWithCopyWarning: \n",
      "A value is trying to be set on a copy of a slice from a DataFrame.\n",
      "Try using .loc[row_indexer,col_indexer] = value instead\n",
      "\n",
      "See the caveats in the documentation: https://pandas.pydata.org/pandas-docs/stable/user_guide/indexing.html#returning-a-view-versus-a-copy\n",
      "  final_result['bg+1:00'] = predictions_original_values.flatten()\n"
     ]
    }
   ],
   "source": [
    "# Generate predictions\n",
    "predictions = predict_bg_plus_one(model, eval_loader)\n",
    "\n",
    "# Convert predictions back to the original scale using the loaded scaler \n",
    "scaler = joblib.load('training_bg_prediction_scaler.pkl') \n",
    "print(\"Scaler loaded from 'training_bg_prediction_scaler.pkl'\")\n",
    "\n",
    "print(\"Scaler parameters:\")\n",
    "print(\"Min:\", scaler.data_min_)\n",
    "print(\"Max:\", scaler.data_max_)\n",
    "print(\"Scale:\", scaler.scale_)\n",
    "\n",
    "print(\"Training bg+1:00 min:\", dataset['bg+1:00'].min())\n",
    "print(\"Training bg+1:00 max:\", dataset['bg+1:00'].max())\n",
    "\n",
    "predictions_original_values = scaler.inverse_transform(np.array(predictions).reshape(-1,1))\n",
    "\n",
    "# Add predictions to final_result Dataframe\n",
    "final_result['bg+1:00'] = predictions_original_values.flatten()\n",
    "\n",
    "# Save final_result Dataframe to CSV file \n",
    "final_result.to_csv('final_result_with_predictions.csv', index=False)\n",
    "print(\"Final results saved to 'final_result_with_predictions.csv'\") "
   ]
  },
  {
   "cell_type": "code",
   "execution_count": null,
   "id": "e7e0d323-b3d1-44ab-b2ab-b5c2b91a2793",
   "metadata": {},
   "outputs": [],
   "source": []
  }
 ],
 "metadata": {
  "kernelspec": {
   "display_name": "Python 3 (ipykernel)",
   "language": "python",
   "name": "python3"
  },
  "language_info": {
   "codemirror_mode": {
    "name": "ipython",
    "version": 3
   },
   "file_extension": ".py",
   "mimetype": "text/x-python",
   "name": "python",
   "nbconvert_exporter": "python",
   "pygments_lexer": "ipython3",
   "version": "3.11.5"
  }
 },
 "nbformat": 4,
 "nbformat_minor": 5
}
